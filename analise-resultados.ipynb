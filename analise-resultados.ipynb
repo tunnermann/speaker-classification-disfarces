{
 "cells": [
  {
   "cell_type": "markdown",
   "metadata": {},
   "source": [
    "### Similaridade de vozes - Disfarces\n",
    "\n",
    "Em resultado.csv temos a comparação entre os embeddings gerados pelo deep speaker para cada trecho de áudio disponível no dataset. A comparação é por similaridade de cosseno."
   ]
  },
  {
   "cell_type": "code",
   "execution_count": 1,
   "metadata": {},
   "outputs": [
    {
     "data": {
      "text/html": [
       "<div>\n",
       "<style scoped>\n",
       "    .dataframe tbody tr th:only-of-type {\n",
       "        vertical-align: middle;\n",
       "    }\n",
       "\n",
       "    .dataframe tbody tr th {\n",
       "        vertical-align: top;\n",
       "    }\n",
       "\n",
       "    .dataframe thead th {\n",
       "        text-align: right;\n",
       "    }\n",
       "</style>\n",
       "<table border=\"1\" class=\"dataframe\">\n",
       "  <thead>\n",
       "    <tr style=\"text-align: right;\">\n",
       "      <th></th>\n",
       "      <th>voz-1</th>\n",
       "      <th>classe-1</th>\n",
       "      <th>voz-2</th>\n",
       "      <th>classe-2</th>\n",
       "      <th>score</th>\n",
       "    </tr>\n",
       "  </thead>\n",
       "  <tbody>\n",
       "    <tr>\n",
       "      <th>0</th>\n",
       "      <td>GH7</td>\n",
       "      <td>DISFARCE</td>\n",
       "      <td>GH7</td>\n",
       "      <td>DISFARCE</td>\n",
       "      <td>1.000000</td>\n",
       "    </tr>\n",
       "    <tr>\n",
       "      <th>1</th>\n",
       "      <td>GH7</td>\n",
       "      <td>DISFARCE</td>\n",
       "      <td>GH7</td>\n",
       "      <td>DISFARCE</td>\n",
       "      <td>0.614986</td>\n",
       "    </tr>\n",
       "    <tr>\n",
       "      <th>2</th>\n",
       "      <td>GH7</td>\n",
       "      <td>DISFARCE</td>\n",
       "      <td>GH7</td>\n",
       "      <td>DISFARCE</td>\n",
       "      <td>0.747182</td>\n",
       "    </tr>\n",
       "    <tr>\n",
       "      <th>3</th>\n",
       "      <td>GH7</td>\n",
       "      <td>DISFARCE</td>\n",
       "      <td>GH7</td>\n",
       "      <td>DISFARCE</td>\n",
       "      <td>0.735326</td>\n",
       "    </tr>\n",
       "    <tr>\n",
       "      <th>4</th>\n",
       "      <td>GH7</td>\n",
       "      <td>DISFARCE</td>\n",
       "      <td>GH7</td>\n",
       "      <td>DISFARCE</td>\n",
       "      <td>0.610291</td>\n",
       "    </tr>\n",
       "  </tbody>\n",
       "</table>\n",
       "</div>"
      ],
      "text/plain": [
       "  voz-1  classe-1 voz-2  classe-2     score\n",
       "0   GH7  DISFARCE   GH7  DISFARCE  1.000000\n",
       "1   GH7  DISFARCE   GH7  DISFARCE  0.614986\n",
       "2   GH7  DISFARCE   GH7  DISFARCE  0.747182\n",
       "3   GH7  DISFARCE   GH7  DISFARCE  0.735326\n",
       "4   GH7  DISFARCE   GH7  DISFARCE  0.610291"
      ]
     },
     "execution_count": 1,
     "metadata": {},
     "output_type": "execute_result"
    }
   ],
   "source": [
    "import pandas as pd\n",
    "import numpy as np\n",
    "import seaborn as sns\n",
    "from sklearn.metrics import confusion_matrix\n",
    "from sklearn.metrics import f1_score, precision_score, recall_score, accuracy_score\n",
    "\n",
    "df = pd.read_csv('resultado.csv')\n",
    "\n",
    "df.head()"
   ]
  },
  {
   "cell_type": "markdown",
   "metadata": {},
   "source": [
    "#### Removendo os scores da comparação entre um arquivo de áudio com ele mesmo, o score dá 1"
   ]
  },
  {
   "cell_type": "code",
   "execution_count": 2,
   "metadata": {},
   "outputs": [
    {
     "name": "stdout",
     "output_type": "stream",
     "text": [
      "(203841, 5)\n",
      "(203193, 5)\n"
     ]
    },
    {
     "data": {
      "text/html": [
       "<div>\n",
       "<style scoped>\n",
       "    .dataframe tbody tr th:only-of-type {\n",
       "        vertical-align: middle;\n",
       "    }\n",
       "\n",
       "    .dataframe tbody tr th {\n",
       "        vertical-align: top;\n",
       "    }\n",
       "\n",
       "    .dataframe thead th {\n",
       "        text-align: right;\n",
       "    }\n",
       "</style>\n",
       "<table border=\"1\" class=\"dataframe\">\n",
       "  <thead>\n",
       "    <tr style=\"text-align: right;\">\n",
       "      <th></th>\n",
       "      <th>voz-1</th>\n",
       "      <th>classe-1</th>\n",
       "      <th>voz-2</th>\n",
       "      <th>classe-2</th>\n",
       "      <th>score</th>\n",
       "    </tr>\n",
       "  </thead>\n",
       "  <tbody>\n",
       "    <tr>\n",
       "      <th>1</th>\n",
       "      <td>GH7</td>\n",
       "      <td>DISFARCE</td>\n",
       "      <td>GH7</td>\n",
       "      <td>DISFARCE</td>\n",
       "      <td>0.614986</td>\n",
       "    </tr>\n",
       "    <tr>\n",
       "      <th>2</th>\n",
       "      <td>GH7</td>\n",
       "      <td>DISFARCE</td>\n",
       "      <td>GH7</td>\n",
       "      <td>DISFARCE</td>\n",
       "      <td>0.747182</td>\n",
       "    </tr>\n",
       "    <tr>\n",
       "      <th>3</th>\n",
       "      <td>GH7</td>\n",
       "      <td>DISFARCE</td>\n",
       "      <td>GH7</td>\n",
       "      <td>DISFARCE</td>\n",
       "      <td>0.735326</td>\n",
       "    </tr>\n",
       "    <tr>\n",
       "      <th>4</th>\n",
       "      <td>GH7</td>\n",
       "      <td>DISFARCE</td>\n",
       "      <td>GH7</td>\n",
       "      <td>DISFARCE</td>\n",
       "      <td>0.610291</td>\n",
       "    </tr>\n",
       "    <tr>\n",
       "      <th>5</th>\n",
       "      <td>GH7</td>\n",
       "      <td>DISFARCE</td>\n",
       "      <td>GH7</td>\n",
       "      <td>DISFARCE</td>\n",
       "      <td>0.616554</td>\n",
       "    </tr>\n",
       "  </tbody>\n",
       "</table>\n",
       "</div>"
      ],
      "text/plain": [
       "  voz-1  classe-1 voz-2  classe-2     score\n",
       "1   GH7  DISFARCE   GH7  DISFARCE  0.614986\n",
       "2   GH7  DISFARCE   GH7  DISFARCE  0.747182\n",
       "3   GH7  DISFARCE   GH7  DISFARCE  0.735326\n",
       "4   GH7  DISFARCE   GH7  DISFARCE  0.610291\n",
       "5   GH7  DISFARCE   GH7  DISFARCE  0.616554"
      ]
     },
     "execution_count": 2,
     "metadata": {},
     "output_type": "execute_result"
    }
   ],
   "source": [
    "print(df.shape)\n",
    "df = df.drop(df[df['score']>0.99].index)\n",
    "print(df.shape)\n",
    "df.head()"
   ]
  },
  {
   "cell_type": "markdown",
   "metadata": {},
   "source": [
    "#### Cada combinação voz-classe tem de 2 a 8 trechos de áudio de aproximadamente 8 segundos\n",
    "#### Uso a média dos scores desses trechos como métrica para os experimentos"
   ]
  },
  {
   "cell_type": "code",
   "execution_count": 3,
   "metadata": {
    "scrolled": true
   },
   "outputs": [
    {
     "name": "stdout",
     "output_type": "stream",
     "text": [
      "                                  score\n",
      "voz-1 classe-1 voz-2 classe-2          \n",
      "GH1   DISFARCE GH1   DISFARCE  0.746833\n",
      "                     NORMAL    0.624282\n",
      "      NORMAL   GH1   NORMAL    0.687960\n",
      "                                  score\n",
      "voz-1 classe-1 voz-2 classe-2          \n",
      "GH1   DISFARCE GH2   NORMAL    0.546969\n",
      "      NORMAL   GH2   NORMAL    0.560694\n",
      "                                  score\n",
      "voz-1 classe-1 voz-2 classe-2          \n",
      "GH2   DISFARCE GH1   DISFARCE  0.564198\n",
      "                     NORMAL    0.524883\n",
      "                                  score\n",
      "voz-1 classe-1 voz-2 classe-2          \n",
      "GH1   DISFARCE GR1   DISFARCE  0.480518\n",
      "                     NORMAL    0.506974\n",
      "      NORMAL   GR1   NORMAL    0.552463\n",
      "                                  score\n",
      "voz-1 classe-1 voz-2 classe-2          \n",
      "GR1   DISFARCE GH1   NORMAL    0.493377\n"
     ]
    }
   ],
   "source": [
    "#médias entre uma voz e classe com as demais\n",
    "df_medias = df.groupby(['voz-1', 'classe-1', 'voz-2', 'classe-2']).mean()\n",
    "\n",
    "# comparação de uma voz com ela mesma\n",
    "print(df_medias.loc['GH1', :, 'GH1',:])\n",
    "\n",
    "#comparação de uma voz de um homem com uma de outro homem \n",
    "print(df_medias.loc['GH1', :, 'GH2', :])\n",
    "print(df_medias.loc['GH2', :, 'GH1', :])\n",
    "\n",
    "#mais uma, agora homem e rapaz\n",
    "print(df_medias.loc['GH1', :, 'GR1', :])\n",
    "print(df_medias.loc['GR1', :, 'GH1', :])"
   ]
  },
  {
   "cell_type": "markdown",
   "metadata": {},
   "source": [
    "### Abaixo seguem várias comparações para os scores entre vozes e vozes-classes.\n",
    "#### A principal informação aqui é de que a média dos scores para vozes iguais bem maior que para vozes diferentes, como esperado"
   ]
  },
  {
   "cell_type": "code",
   "execution_count": 4,
   "metadata": {},
   "outputs": [
    {
     "data": {
      "text/plain": [
       "count    4169.000000\n",
       "mean        0.667319\n",
       "std         0.113398\n",
       "min         0.177960\n",
       "25%         0.603195\n",
       "50%         0.687062\n",
       "75%         0.748153\n",
       "max         0.953725\n",
       "Name: score, dtype: float64"
      ]
     },
     "execution_count": 4,
     "metadata": {},
     "output_type": "execute_result"
    }
   ],
   "source": [
    "#sumário para mesma voz\n",
    "df[df['voz-1'] == df['voz-2']]['score'].describe()"
   ]
  },
  {
   "cell_type": "code",
   "execution_count": 5,
   "metadata": {},
   "outputs": [
    {
     "data": {
      "text/plain": [
       "count    199024.000000\n",
       "mean          0.366731\n",
       "std           0.144214\n",
       "min          -0.241430\n",
       "25%           0.265812\n",
       "50%           0.366823\n",
       "75%           0.470230\n",
       "max           0.854398\n",
       "Name: score, dtype: float64"
      ]
     },
     "execution_count": 5,
     "metadata": {},
     "output_type": "execute_result"
    }
   ],
   "source": [
    "#sumário para vozes diferentes\n",
    "df[df['voz-1'] != df['voz-2']]['score'].describe()"
   ]
  },
  {
   "cell_type": "code",
   "execution_count": 6,
   "metadata": {},
   "outputs": [
    {
     "data": {
      "text/plain": [
       "count    2033.000000\n",
       "mean        0.700238\n",
       "std         0.103581\n",
       "min         0.206756\n",
       "25%         0.654287\n",
       "50%         0.721117\n",
       "75%         0.769749\n",
       "max         0.908317\n",
       "Name: score, dtype: float64"
      ]
     },
     "execution_count": 6,
     "metadata": {},
     "output_type": "execute_result"
    }
   ],
   "source": [
    "#sumário para mesma voz, mesma classe(normal ou disfarçado)\n",
    "df[(df['voz-1'] == df['voz-2']) & (df['classe-1'] == df['classe-2'])]['score'].describe()"
   ]
  },
  {
   "cell_type": "code",
   "execution_count": 7,
   "metadata": {},
   "outputs": [
    {
     "data": {
      "text/plain": [
       "count    2136.000000\n",
       "mean        0.635988\n",
       "std         0.113483\n",
       "min         0.177960\n",
       "25%         0.567853\n",
       "50%         0.652163\n",
       "75%         0.718801\n",
       "max         0.953725\n",
       "Name: score, dtype: float64"
      ]
     },
     "execution_count": 7,
     "metadata": {},
     "output_type": "execute_result"
    }
   ],
   "source": [
    "#sumário para mesma voz, classes diferentes (normal ou disfarçado)\n",
    "df[(df['voz-1'] == df['voz-2']) & (df['classe-1'] != df['classe-2'])]['score'].describe()"
   ]
  },
  {
   "cell_type": "code",
   "execution_count": 8,
   "metadata": {},
   "outputs": [
    {
     "data": {
      "text/plain": [
       "count    99572.000000\n",
       "mean         0.368777\n",
       "std          0.144728\n",
       "min         -0.217313\n",
       "25%          0.267510\n",
       "50%          0.369501\n",
       "75%          0.472547\n",
       "max          0.828025\n",
       "Name: score, dtype: float64"
      ]
     },
     "execution_count": 8,
     "metadata": {},
     "output_type": "execute_result"
    }
   ],
   "source": [
    "#sumário para vozez diferentes, mesma classe(normal ou disfarçado)\n",
    "df[(df['voz-1'] != df['voz-2']) & (df['classe-1'] == df['classe-2'])]['score'].describe()"
   ]
  },
  {
   "cell_type": "code",
   "execution_count": 9,
   "metadata": {},
   "outputs": [
    {
     "data": {
      "text/plain": [
       "count    99452.000000\n",
       "mean         0.364682\n",
       "std          0.143670\n",
       "min         -0.241430\n",
       "25%          0.264362\n",
       "50%          0.364314\n",
       "75%          0.467882\n",
       "max          0.854398\n",
       "Name: score, dtype: float64"
      ]
     },
     "execution_count": 9,
     "metadata": {},
     "output_type": "execute_result"
    }
   ],
   "source": [
    "#sumário para vozes diferentes, classes diferentes (normal ou disfarçado)\n",
    "df[(df['voz-1'] != df['voz-2']) & (df['classe-1'] != df['classe-2'])]['score'].describe()"
   ]
  },
  {
   "cell_type": "markdown",
   "metadata": {},
   "source": [
    "#### Aqui seleciono para comparação os scores entre vozes iguais e vozes diferentes do mesmo grupo(Homem, mulher, garoto, garota e criança). Isso deixa o dataset mais balanceado porém preservando as comparações mais difíceis, com vozes parecidas."
   ]
  },
  {
   "cell_type": "code",
   "execution_count": 10,
   "metadata": {},
   "outputs": [],
   "source": [
    "df_different_voice_same_group = df[(df['voz-1'] != df['voz-2']) & ((df['voz-1'].str[:2] == df['voz-2'].str[:2]))]\n",
    "df_same_voice = df[(df['voz-1'] == df['voz-2'])]\n",
    "\n",
    "df_novo = pd.concat([df_same_voice, df_different_voice_same_group])\n",
    "df_novo = df_novo.groupby(['voz-1','classe-1', 'voz-2', 'classe-2'], as_index=False).mean()"
   ]
  },
  {
   "cell_type": "markdown",
   "metadata": {},
   "source": [
    "### Métricas para as comparações. Como o dataset continua desbalanceado, com mais combinações de vozes diferentes do que iguais, o F1 score é mais útil."
   ]
  },
  {
   "cell_type": "code",
   "execution_count": 11,
   "metadata": {},
   "outputs": [
    {
     "name": "stdout",
     "output_type": "stream",
     "text": [
      "f1 score:  0.8623188405797101\n",
      "precision:  0.85\n",
      "recall:  0.875\n",
      "acurácia:  0.9594017094017094\n"
     ]
    }
   ],
   "source": [
    "#métricas para um corte de 0.62\n",
    "df_novo['predito'] = np.where(df_novo['score'] > 0.62,1,0)\n",
    "df_novo['y'] = np.where(df_novo['voz-1'] == df_novo['voz-2'], 1, 0)\n",
    "print('f1 score: ', f1_score(df_novo['y'], df_novo['predito']))\n",
    "print('precision: ', precision_score(df_novo['y'], df_novo['predito']))\n",
    "print('recall: ', recall_score(df_novo['y'], df_novo['predito']))\n",
    "print('acurácia: ', accuracy_score(df_novo['y'], df_novo['predito']))"
   ]
  },
  {
   "cell_type": "markdown",
   "metadata": {},
   "source": [
    "### Matriz de confusão"
   ]
  },
  {
   "cell_type": "code",
   "execution_count": 12,
   "metadata": {},
   "outputs": [
    {
     "data": {
      "text/plain": [
       "<matplotlib.axes._subplots.AxesSubplot at 0x7fdb89a43c18>"
      ]
     },
     "execution_count": 12,
     "metadata": {},
     "output_type": "execute_result"
    },
    {
     "data": {
      "image/png": "[encoded data removed]",
      "text/plain": [
       "<Figure size 432x288 with 2 Axes>"
      ]
     },
     "metadata": {
      "needs_background": "light"
     },
     "output_type": "display_data"
    }
   ],
   "source": [
    "cf_matrix = confusion_matrix(df_novo['y'], df_novo['predito'])\n",
    "\n",
    "sns.heatmap(cf_matrix, annot=True, cmap='Blues', fmt='g')"
   ]
  },
  {
   "cell_type": "markdown",
   "metadata": {},
   "source": [
    "### Curva ROC"
   ]
  },
  {
   "cell_type": "code",
   "execution_count": 13,
   "metadata": {},
   "outputs": [
    {
     "data": {
      "image/png": "[encoded data removed]",
      "text/plain": [
       "<Figure size 432x288 with 1 Axes>"
      ]
     },
     "metadata": {
      "needs_background": "light"
     },
     "output_type": "display_data"
    }
   ],
   "source": [
    "\n",
    "from sklearn.metrics import roc_curve, auc\n",
    "\n",
    "fpr, tpr, threshold = roc_curve(df_novo['y'], df_novo['predito'])\n",
    "roc_auc = auc(fpr, tpr)\n",
    "\n",
    "# method I: plt\n",
    "import matplotlib.pyplot as plt\n",
    "plt.title('Receiver Operating Characteristic')\n",
    "plt.plot(fpr, tpr, 'b', label = 'AUC = %0.2f' % roc_auc)\n",
    "plt.legend(loc = 'lower right')\n",
    "plt.plot([0, 1], [0, 1],'r--')\n",
    "plt.xlim([0, 1])\n",
    "plt.ylim([0, 1])\n",
    "plt.ylabel('True Positive Rate')\n",
    "plt.xlabel('False Positive Rate')\n",
    "plt.show()"
   ]
  },
  {
   "cell_type": "markdown",
   "metadata": {},
   "source": [
    "### Análise dos exemplos em que houve predição errada"
   ]
  },
  {
   "cell_type": "code",
   "execution_count": 14,
   "metadata": {},
   "outputs": [],
   "source": [
    "df_erros = df_novo[df_novo['y'] != df_novo['predito']]"
   ]
  },
  {
   "cell_type": "markdown",
   "metadata": {},
   "source": [
    "### Erros de vozes diferentes classificadas como mesma voz. "
   ]
  },
  {
   "cell_type": "code",
   "execution_count": 15,
   "metadata": {},
   "outputs": [
    {
     "data": {
      "text/html": [
       "<div>\n",
       "<style scoped>\n",
       "    .dataframe tbody tr th:only-of-type {\n",
       "        vertical-align: middle;\n",
       "    }\n",
       "\n",
       "    .dataframe tbody tr th {\n",
       "        vertical-align: top;\n",
       "    }\n",
       "\n",
       "    .dataframe thead th {\n",
       "        text-align: right;\n",
       "    }\n",
       "</style>\n",
       "<table border=\"1\" class=\"dataframe\">\n",
       "  <thead>\n",
       "    <tr style=\"text-align: right;\">\n",
       "      <th></th>\n",
       "      <th>voz-1</th>\n",
       "      <th>classe-1</th>\n",
       "      <th>voz-2</th>\n",
       "      <th>classe-2</th>\n",
       "      <th>score</th>\n",
       "      <th>predito</th>\n",
       "      <th>y</th>\n",
       "    </tr>\n",
       "  </thead>\n",
       "  <tbody>\n",
       "    <tr>\n",
       "      <th>103</th>\n",
       "      <td>GG1</td>\n",
       "      <td>DISFARCE</td>\n",
       "      <td>GG6</td>\n",
       "      <td>NORMAL</td>\n",
       "      <td>0.637487</td>\n",
       "      <td>1</td>\n",
       "      <td>0</td>\n",
       "    </tr>\n",
       "    <tr>\n",
       "      <th>182</th>\n",
       "      <td>GG4</td>\n",
       "      <td>DISFARCE</td>\n",
       "      <td>GG6</td>\n",
       "      <td>NORMAL</td>\n",
       "      <td>0.629277</td>\n",
       "      <td>1</td>\n",
       "      <td>0</td>\n",
       "    </tr>\n",
       "    <tr>\n",
       "      <th>196</th>\n",
       "      <td>GG5</td>\n",
       "      <td>DISFARCE</td>\n",
       "      <td>GG10</td>\n",
       "      <td>NORMAL</td>\n",
       "      <td>0.637012</td>\n",
       "      <td>1</td>\n",
       "      <td>0</td>\n",
       "    </tr>\n",
       "    <tr>\n",
       "      <th>205</th>\n",
       "      <td>GG5</td>\n",
       "      <td>DISFARCE</td>\n",
       "      <td>GG6</td>\n",
       "      <td>NORMAL</td>\n",
       "      <td>0.671942</td>\n",
       "      <td>1</td>\n",
       "      <td>0</td>\n",
       "    </tr>\n",
       "    <tr>\n",
       "      <th>218</th>\n",
       "      <td>GG6</td>\n",
       "      <td>DISFARCE</td>\n",
       "      <td>GG1</td>\n",
       "      <td>NORMAL</td>\n",
       "      <td>0.641059</td>\n",
       "      <td>1</td>\n",
       "      <td>0</td>\n",
       "    </tr>\n",
       "    <tr>\n",
       "      <th>226</th>\n",
       "      <td>GG6</td>\n",
       "      <td>DISFARCE</td>\n",
       "      <td>GG5</td>\n",
       "      <td>NORMAL</td>\n",
       "      <td>0.664553</td>\n",
       "      <td>1</td>\n",
       "      <td>0</td>\n",
       "    </tr>\n",
       "    <tr>\n",
       "      <th>683</th>\n",
       "      <td>GM7</td>\n",
       "      <td>DISFARCE</td>\n",
       "      <td>GM8</td>\n",
       "      <td>NORMAL</td>\n",
       "      <td>0.621578</td>\n",
       "      <td>1</td>\n",
       "      <td>0</td>\n",
       "    </tr>\n",
       "    <tr>\n",
       "      <th>832</th>\n",
       "      <td>GR5</td>\n",
       "      <td>DISFARCE</td>\n",
       "      <td>GR4</td>\n",
       "      <td>NORMAL</td>\n",
       "      <td>0.629084</td>\n",
       "      <td>1</td>\n",
       "      <td>0</td>\n",
       "    </tr>\n",
       "  </tbody>\n",
       "</table>\n",
       "</div>"
      ],
      "text/plain": [
       "    voz-1  classe-1 voz-2 classe-2     score  predito  y\n",
       "103   GG1  DISFARCE   GG6   NORMAL  0.637487        1  0\n",
       "182   GG4  DISFARCE   GG6   NORMAL  0.629277        1  0\n",
       "196   GG5  DISFARCE  GG10   NORMAL  0.637012        1  0\n",
       "205   GG5  DISFARCE   GG6   NORMAL  0.671942        1  0\n",
       "218   GG6  DISFARCE   GG1   NORMAL  0.641059        1  0\n",
       "226   GG6  DISFARCE   GG5   NORMAL  0.664553        1  0\n",
       "683   GM7  DISFARCE   GM8   NORMAL  0.621578        1  0\n",
       "832   GR5  DISFARCE   GR4   NORMAL  0.629084        1  0"
      ]
     },
     "execution_count": 15,
     "metadata": {},
     "output_type": "execute_result"
    }
   ],
   "source": [
    "df_erros[(df_erros['classe-1'] != df_erros['classe-2']) & (df_erros['y'] == 0)]"
   ]
  },
  {
   "cell_type": "code",
   "execution_count": 19,
   "metadata": {},
   "outputs": [
    {
     "data": {
      "text/html": [
       "<div>\n",
       "<style scoped>\n",
       "    .dataframe tbody tr th:only-of-type {\n",
       "        vertical-align: middle;\n",
       "    }\n",
       "\n",
       "    .dataframe tbody tr th {\n",
       "        vertical-align: top;\n",
       "    }\n",
       "\n",
       "    .dataframe thead th {\n",
       "        text-align: right;\n",
       "    }\n",
       "</style>\n",
       "<table border=\"1\" class=\"dataframe\">\n",
       "  <thead>\n",
       "    <tr style=\"text-align: right;\">\n",
       "      <th></th>\n",
       "      <th>voz-1</th>\n",
       "      <th>classe-1</th>\n",
       "      <th>voz-2</th>\n",
       "      <th>classe-2</th>\n",
       "      <th>score</th>\n",
       "      <th>predito</th>\n",
       "      <th>y</th>\n",
       "    </tr>\n",
       "  </thead>\n",
       "  <tbody>\n",
       "    <tr>\n",
       "      <th>102</th>\n",
       "      <td>GG1</td>\n",
       "      <td>DISFARCE</td>\n",
       "      <td>GG6</td>\n",
       "      <td>DISFARCE</td>\n",
       "      <td>0.638948</td>\n",
       "      <td>1</td>\n",
       "      <td>0</td>\n",
       "    </tr>\n",
       "    <tr>\n",
       "      <th>126</th>\n",
       "      <td>GG10</td>\n",
       "      <td>NORMAL</td>\n",
       "      <td>GG6</td>\n",
       "      <td>NORMAL</td>\n",
       "      <td>0.661986</td>\n",
       "      <td>1</td>\n",
       "      <td>0</td>\n",
       "    </tr>\n",
       "    <tr>\n",
       "      <th>191</th>\n",
       "      <td>GG4</td>\n",
       "      <td>NORMAL</td>\n",
       "      <td>GG6</td>\n",
       "      <td>NORMAL</td>\n",
       "      <td>0.635717</td>\n",
       "      <td>1</td>\n",
       "      <td>0</td>\n",
       "    </tr>\n",
       "    <tr>\n",
       "      <th>195</th>\n",
       "      <td>GG5</td>\n",
       "      <td>DISFARCE</td>\n",
       "      <td>GG10</td>\n",
       "      <td>DISFARCE</td>\n",
       "      <td>0.623119</td>\n",
       "      <td>1</td>\n",
       "      <td>0</td>\n",
       "    </tr>\n",
       "    <tr>\n",
       "      <th>200</th>\n",
       "      <td>GG5</td>\n",
       "      <td>DISFARCE</td>\n",
       "      <td>GG4</td>\n",
       "      <td>DISFARCE</td>\n",
       "      <td>0.634625</td>\n",
       "      <td>1</td>\n",
       "      <td>0</td>\n",
       "    </tr>\n",
       "    <tr>\n",
       "      <th>204</th>\n",
       "      <td>GG5</td>\n",
       "      <td>DISFARCE</td>\n",
       "      <td>GG6</td>\n",
       "      <td>DISFARCE</td>\n",
       "      <td>0.644522</td>\n",
       "      <td>1</td>\n",
       "      <td>0</td>\n",
       "    </tr>\n",
       "    <tr>\n",
       "      <th>211</th>\n",
       "      <td>GG5</td>\n",
       "      <td>NORMAL</td>\n",
       "      <td>GG10</td>\n",
       "      <td>NORMAL</td>\n",
       "      <td>0.624622</td>\n",
       "      <td>1</td>\n",
       "      <td>0</td>\n",
       "    </tr>\n",
       "    <tr>\n",
       "      <th>215</th>\n",
       "      <td>GG5</td>\n",
       "      <td>NORMAL</td>\n",
       "      <td>GG6</td>\n",
       "      <td>NORMAL</td>\n",
       "      <td>0.711238</td>\n",
       "      <td>1</td>\n",
       "      <td>0</td>\n",
       "    </tr>\n",
       "    <tr>\n",
       "      <th>233</th>\n",
       "      <td>GG6</td>\n",
       "      <td>NORMAL</td>\n",
       "      <td>GG1</td>\n",
       "      <td>NORMAL</td>\n",
       "      <td>0.667811</td>\n",
       "      <td>1</td>\n",
       "      <td>0</td>\n",
       "    </tr>\n",
       "    <tr>\n",
       "      <th>248</th>\n",
       "      <td>GG7</td>\n",
       "      <td>NORMAL</td>\n",
       "      <td>GG6</td>\n",
       "      <td>NORMAL</td>\n",
       "      <td>0.631837</td>\n",
       "      <td>1</td>\n",
       "      <td>0</td>\n",
       "    </tr>\n",
       "    <tr>\n",
       "      <th>271</th>\n",
       "      <td>GG8</td>\n",
       "      <td>NORMAL</td>\n",
       "      <td>GG6</td>\n",
       "      <td>NORMAL</td>\n",
       "      <td>0.642540</td>\n",
       "      <td>1</td>\n",
       "      <td>0</td>\n",
       "    </tr>\n",
       "    <tr>\n",
       "      <th>496</th>\n",
       "      <td>GH8</td>\n",
       "      <td>NORMAL</td>\n",
       "      <td>GH9</td>\n",
       "      <td>NORMAL</td>\n",
       "      <td>0.681274</td>\n",
       "      <td>1</td>\n",
       "      <td>0</td>\n",
       "    </tr>\n",
       "    <tr>\n",
       "      <th>689</th>\n",
       "      <td>GM7</td>\n",
       "      <td>NORMAL</td>\n",
       "      <td>GM8</td>\n",
       "      <td>NORMAL</td>\n",
       "      <td>0.637546</td>\n",
       "      <td>1</td>\n",
       "      <td>0</td>\n",
       "    </tr>\n",
       "  </tbody>\n",
       "</table>\n",
       "</div>"
      ],
      "text/plain": [
       "    voz-1  classe-1 voz-2  classe-2     score  predito  y\n",
       "102   GG1  DISFARCE   GG6  DISFARCE  0.638948        1  0\n",
       "126  GG10    NORMAL   GG6    NORMAL  0.661986        1  0\n",
       "191   GG4    NORMAL   GG6    NORMAL  0.635717        1  0\n",
       "195   GG5  DISFARCE  GG10  DISFARCE  0.623119        1  0\n",
       "200   GG5  DISFARCE   GG4  DISFARCE  0.634625        1  0\n",
       "204   GG5  DISFARCE   GG6  DISFARCE  0.644522        1  0\n",
       "211   GG5    NORMAL  GG10    NORMAL  0.624622        1  0\n",
       "215   GG5    NORMAL   GG6    NORMAL  0.711238        1  0\n",
       "233   GG6    NORMAL   GG1    NORMAL  0.667811        1  0\n",
       "248   GG7    NORMAL   GG6    NORMAL  0.631837        1  0\n",
       "271   GG8    NORMAL   GG6    NORMAL  0.642540        1  0\n",
       "496   GH8    NORMAL   GH9    NORMAL  0.681274        1  0\n",
       "689   GM7    NORMAL   GM8    NORMAL  0.637546        1  0"
      ]
     },
     "execution_count": 19,
     "metadata": {},
     "output_type": "execute_result"
    }
   ],
   "source": [
    "df_erros[(df_erros['classe-1'] == df_erros['classe-2']) & (df_erros['y'] == 0)]"
   ]
  },
  {
   "cell_type": "markdown",
   "metadata": {},
   "source": [
    "### Erros para mesma voz classificada como vozes diferentes. Aqui vemos que o disfarce na voz teve algum efeito para enganar o modelo, com 11 exemplos de classes diferentes classificadas incorretamente contra 6 para a mesma classe. Destaque para os dois exemplos em que o score ficou abaixo de 0.5, mostrando que o disfarce aqui foi efetivo. "
   ]
  },
  {
   "cell_type": "code",
   "execution_count": 20,
   "metadata": {},
   "outputs": [
    {
     "data": {
      "text/html": [
       "<div>\n",
       "<style scoped>\n",
       "    .dataframe tbody tr th:only-of-type {\n",
       "        vertical-align: middle;\n",
       "    }\n",
       "\n",
       "    .dataframe tbody tr th {\n",
       "        vertical-align: top;\n",
       "    }\n",
       "\n",
       "    .dataframe thead th {\n",
       "        text-align: right;\n",
       "    }\n",
       "</style>\n",
       "<table border=\"1\" class=\"dataframe\">\n",
       "  <thead>\n",
       "    <tr style=\"text-align: right;\">\n",
       "      <th></th>\n",
       "      <th>voz-1</th>\n",
       "      <th>classe-1</th>\n",
       "      <th>voz-2</th>\n",
       "      <th>classe-2</th>\n",
       "      <th>score</th>\n",
       "      <th>predito</th>\n",
       "      <th>y</th>\n",
       "    </tr>\n",
       "  </thead>\n",
       "  <tbody>\n",
       "    <tr>\n",
       "      <th>132</th>\n",
       "      <td>GG2</td>\n",
       "      <td>DISFARCE</td>\n",
       "      <td>GG2</td>\n",
       "      <td>NORMAL</td>\n",
       "      <td>0.532746</td>\n",
       "      <td>0</td>\n",
       "      <td>1</td>\n",
       "    </tr>\n",
       "    <tr>\n",
       "      <th>267</th>\n",
       "      <td>GG8</td>\n",
       "      <td>DISFARCE</td>\n",
       "      <td>GG8</td>\n",
       "      <td>NORMAL</td>\n",
       "      <td>0.577877</td>\n",
       "      <td>0</td>\n",
       "      <td>1</td>\n",
       "    </tr>\n",
       "    <tr>\n",
       "      <th>323</th>\n",
       "      <td>GH10</td>\n",
       "      <td>DISFARCE</td>\n",
       "      <td>GH10</td>\n",
       "      <td>NORMAL</td>\n",
       "      <td>0.419517</td>\n",
       "      <td>0</td>\n",
       "      <td>1</td>\n",
       "    </tr>\n",
       "    <tr>\n",
       "      <th>365</th>\n",
       "      <td>GH3</td>\n",
       "      <td>DISFARCE</td>\n",
       "      <td>GH3</td>\n",
       "      <td>NORMAL</td>\n",
       "      <td>0.600186</td>\n",
       "      <td>0</td>\n",
       "      <td>1</td>\n",
       "    </tr>\n",
       "    <tr>\n",
       "      <th>457</th>\n",
       "      <td>GH7</td>\n",
       "      <td>DISFARCE</td>\n",
       "      <td>GH7</td>\n",
       "      <td>NORMAL</td>\n",
       "      <td>0.580514</td>\n",
       "      <td>0</td>\n",
       "      <td>1</td>\n",
       "    </tr>\n",
       "    <tr>\n",
       "      <th>561</th>\n",
       "      <td>GM2</td>\n",
       "      <td>DISFARCE</td>\n",
       "      <td>GM2</td>\n",
       "      <td>NORMAL</td>\n",
       "      <td>0.582114</td>\n",
       "      <td>0</td>\n",
       "      <td>1</td>\n",
       "    </tr>\n",
       "    <tr>\n",
       "      <th>589</th>\n",
       "      <td>GM3</td>\n",
       "      <td>DISFARCE</td>\n",
       "      <td>GM3</td>\n",
       "      <td>NORMAL</td>\n",
       "      <td>0.435819</td>\n",
       "      <td>0</td>\n",
       "      <td>1</td>\n",
       "    </tr>\n",
       "    <tr>\n",
       "      <th>639</th>\n",
       "      <td>GM5</td>\n",
       "      <td>DISFARCE</td>\n",
       "      <td>GM5</td>\n",
       "      <td>NORMAL</td>\n",
       "      <td>0.556246</td>\n",
       "      <td>0</td>\n",
       "      <td>1</td>\n",
       "    </tr>\n",
       "    <tr>\n",
       "      <th>700</th>\n",
       "      <td>GM8</td>\n",
       "      <td>DISFARCE</td>\n",
       "      <td>GM8</td>\n",
       "      <td>NORMAL</td>\n",
       "      <td>0.590487</td>\n",
       "      <td>0</td>\n",
       "      <td>1</td>\n",
       "    </tr>\n",
       "    <tr>\n",
       "      <th>722</th>\n",
       "      <td>GR1</td>\n",
       "      <td>DISFARCE</td>\n",
       "      <td>GR1</td>\n",
       "      <td>NORMAL</td>\n",
       "      <td>0.614830</td>\n",
       "      <td>0</td>\n",
       "      <td>1</td>\n",
       "    </tr>\n",
       "    <tr>\n",
       "      <th>762</th>\n",
       "      <td>GR2</td>\n",
       "      <td>DISFARCE</td>\n",
       "      <td>GR2</td>\n",
       "      <td>NORMAL</td>\n",
       "      <td>0.552191</td>\n",
       "      <td>0</td>\n",
       "      <td>1</td>\n",
       "    </tr>\n",
       "  </tbody>\n",
       "</table>\n",
       "</div>"
      ],
      "text/plain": [
       "    voz-1  classe-1 voz-2 classe-2     score  predito  y\n",
       "132   GG2  DISFARCE   GG2   NORMAL  0.532746        0  1\n",
       "267   GG8  DISFARCE   GG8   NORMAL  0.577877        0  1\n",
       "323  GH10  DISFARCE  GH10   NORMAL  0.419517        0  1\n",
       "365   GH3  DISFARCE   GH3   NORMAL  0.600186        0  1\n",
       "457   GH7  DISFARCE   GH7   NORMAL  0.580514        0  1\n",
       "561   GM2  DISFARCE   GM2   NORMAL  0.582114        0  1\n",
       "589   GM3  DISFARCE   GM3   NORMAL  0.435819        0  1\n",
       "639   GM5  DISFARCE   GM5   NORMAL  0.556246        0  1\n",
       "700   GM8  DISFARCE   GM8   NORMAL  0.590487        0  1\n",
       "722   GR1  DISFARCE   GR1   NORMAL  0.614830        0  1\n",
       "762   GR2  DISFARCE   GR2   NORMAL  0.552191        0  1"
      ]
     },
     "execution_count": 20,
     "metadata": {},
     "output_type": "execute_result"
    }
   ],
   "source": [
    "df_erros[(df_erros['classe-1'] != df_erros['classe-2']) & (df_erros['y'] == 1)]"
   ]
  },
  {
   "cell_type": "code",
   "execution_count": 18,
   "metadata": {},
   "outputs": [
    {
     "data": {
      "text/html": [
       "<div>\n",
       "<style scoped>\n",
       "    .dataframe tbody tr th:only-of-type {\n",
       "        vertical-align: middle;\n",
       "    }\n",
       "\n",
       "    .dataframe tbody tr th {\n",
       "        vertical-align: top;\n",
       "    }\n",
       "\n",
       "    .dataframe thead th {\n",
       "        text-align: right;\n",
       "    }\n",
       "</style>\n",
       "<table border=\"1\" class=\"dataframe\">\n",
       "  <thead>\n",
       "    <tr style=\"text-align: right;\">\n",
       "      <th></th>\n",
       "      <th>voz-1</th>\n",
       "      <th>classe-1</th>\n",
       "      <th>voz-2</th>\n",
       "      <th>classe-2</th>\n",
       "      <th>score</th>\n",
       "      <th>predito</th>\n",
       "      <th>y</th>\n",
       "    </tr>\n",
       "  </thead>\n",
       "  <tbody>\n",
       "    <tr>\n",
       "      <th>131</th>\n",
       "      <td>GG2</td>\n",
       "      <td>DISFARCE</td>\n",
       "      <td>GG2</td>\n",
       "      <td>DISFARCE</td>\n",
       "      <td>0.614978</td>\n",
       "      <td>0</td>\n",
       "      <td>1</td>\n",
       "    </tr>\n",
       "    <tr>\n",
       "      <th>266</th>\n",
       "      <td>GG8</td>\n",
       "      <td>DISFARCE</td>\n",
       "      <td>GG8</td>\n",
       "      <td>DISFARCE</td>\n",
       "      <td>0.611017</td>\n",
       "      <td>0</td>\n",
       "      <td>1</td>\n",
       "    </tr>\n",
       "    <tr>\n",
       "      <th>364</th>\n",
       "      <td>GH3</td>\n",
       "      <td>DISFARCE</td>\n",
       "      <td>GH3</td>\n",
       "      <td>DISFARCE</td>\n",
       "      <td>0.608386</td>\n",
       "      <td>0</td>\n",
       "      <td>1</td>\n",
       "    </tr>\n",
       "    <tr>\n",
       "      <th>419</th>\n",
       "      <td>GH5</td>\n",
       "      <td>NORMAL</td>\n",
       "      <td>GH5</td>\n",
       "      <td>NORMAL</td>\n",
       "      <td>0.590123</td>\n",
       "      <td>0</td>\n",
       "      <td>1</td>\n",
       "    </tr>\n",
       "    <tr>\n",
       "      <th>528</th>\n",
       "      <td>GM1</td>\n",
       "      <td>NORMAL</td>\n",
       "      <td>GM1</td>\n",
       "      <td>NORMAL</td>\n",
       "      <td>0.607183</td>\n",
       "      <td>0</td>\n",
       "      <td>1</td>\n",
       "    </tr>\n",
       "    <tr>\n",
       "      <th>924</th>\n",
       "      <td>GR9</td>\n",
       "      <td>DISFARCE</td>\n",
       "      <td>GR9</td>\n",
       "      <td>DISFARCE</td>\n",
       "      <td>0.588503</td>\n",
       "      <td>0</td>\n",
       "      <td>1</td>\n",
       "    </tr>\n",
       "  </tbody>\n",
       "</table>\n",
       "</div>"
      ],
      "text/plain": [
       "    voz-1  classe-1 voz-2  classe-2     score  predito  y\n",
       "131   GG2  DISFARCE   GG2  DISFARCE  0.614978        0  1\n",
       "266   GG8  DISFARCE   GG8  DISFARCE  0.611017        0  1\n",
       "364   GH3  DISFARCE   GH3  DISFARCE  0.608386        0  1\n",
       "419   GH5    NORMAL   GH5    NORMAL  0.590123        0  1\n",
       "528   GM1    NORMAL   GM1    NORMAL  0.607183        0  1\n",
       "924   GR9  DISFARCE   GR9  DISFARCE  0.588503        0  1"
      ]
     },
     "execution_count": 18,
     "metadata": {},
     "output_type": "execute_result"
    }
   ],
   "source": [
    "df_erros[(df_erros['classe-1'] == df_erros['classe-2']) & (df_erros['y'] == 1)]"
   ]
  },
  {
   "cell_type": "markdown",
   "metadata": {},
   "source": [
    "### Diferença de acurácia para mesma voz classificada como voz diferente dependendo da classe. Quando há disfarce a acurácia é de 74% enquando quando não há disfarce a acurácia é de 97.8%. Considerando apenas os dois exemplos em que o score foi menor que 0.5, a acurácia quando há disfarce"
   ]
  },
  {
   "cell_type": "code",
   "execution_count": 30,
   "metadata": {},
   "outputs": [
    {
     "name": "stdout",
     "output_type": "stream",
     "text": [
      "0.9534883720930233\n"
     ]
    },
    {
     "data": {
      "text/plain": [
       "0.7441860465116279"
      ]
     },
     "execution_count": 30,
     "metadata": {},
     "output_type": "execute_result"
    }
   ],
   "source": [
    "erros = df_erros[(df_erros['classe-1'] != df_erros['classe-2']) & (df_erros['y'] == 1)].shape[0]\n",
    "total = df_novo[(df_novo['y'] == 1) & (df_novo['classe-1'] != df_novo['classe-2'])].shape[0]\n",
    "print(1 - 2/total)\n",
    "1 - erros/total"
   ]
  },
  {
   "cell_type": "code",
   "execution_count": 29,
   "metadata": {},
   "outputs": [
    {
     "data": {
      "text/plain": [
       "0.978494623655914"
      ]
     },
     "execution_count": 29,
     "metadata": {},
     "output_type": "execute_result"
    }
   ],
   "source": [
    "erros = df_erros[(df_erros['classe-1'] == df_erros['classe-2']) & (df_erros['y'] == 1) & (df_erros['classe-1'] == 'NORMAL')].shape[0]\n",
    "total = df_novo[(df_novo['y'] == 1) & (df_novo['classe-1'] == df_novo['classe-2'])].shape[0]\n",
    "\n",
    "1 - erros/total"
   ]
  },
  {
   "cell_type": "code",
   "execution_count": null,
   "metadata": {},
   "outputs": [],
   "source": []
  }
 ],
 "metadata": {
  "kernelspec": {
   "display_name": "Python 3",
   "language": "python",
   "name": "python3"
  },
  "language_info": {
   "codemirror_mode": {
    "name": "ipython",
    "version": 3
   },
   "file_extension": ".py",
   "mimetype": "text/x-python",
   "name": "python",
   "nbconvert_exporter": "python",
   "pygments_lexer": "ipython3",
   "version": "3.6.9"
  }
 },
 "nbformat": 4,
 "nbformat_minor": 4
}
