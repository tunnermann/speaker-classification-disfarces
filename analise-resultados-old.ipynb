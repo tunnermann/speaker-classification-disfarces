{
 "cells": [
  {
   "cell_type": "markdown",
   "metadata": {},
   "source": [
    "### Similaridade de vozes - Disfarces\n",
    "\n",
    "Em resultado.csv temos a comparação entre os embeddings gerados pelo deep speaker para cada trecho de áudio disponível no dataset. A comparação é por similaridade de cosseno."
   ]
  },
  {
   "cell_type": "code",
   "execution_count": 1,
   "metadata": {},
   "outputs": [
    {
     "data": {
      "text/html": [
       "<div>\n",
       "<style scoped>\n",
       "    .dataframe tbody tr th:only-of-type {\n",
       "        vertical-align: middle;\n",
       "    }\n",
       "\n",
       "    .dataframe tbody tr th {\n",
       "        vertical-align: top;\n",
       "    }\n",
       "\n",
       "    .dataframe thead th {\n",
       "        text-align: right;\n",
       "    }\n",
       "</style>\n",
       "<table border=\"1\" class=\"dataframe\">\n",
       "  <thead>\n",
       "    <tr style=\"text-align: right;\">\n",
       "      <th></th>\n",
       "      <th>voz-1</th>\n",
       "      <th>classe-1</th>\n",
       "      <th>voz-2</th>\n",
       "      <th>classe-2</th>\n",
       "      <th>score</th>\n",
       "    </tr>\n",
       "  </thead>\n",
       "  <tbody>\n",
       "    <tr>\n",
       "      <th>0</th>\n",
       "      <td>GH7</td>\n",
       "      <td>DISFARCE</td>\n",
       "      <td>GH7</td>\n",
       "      <td>DISFARCE</td>\n",
       "      <td>1.000000</td>\n",
       "    </tr>\n",
       "    <tr>\n",
       "      <th>1</th>\n",
       "      <td>GH7</td>\n",
       "      <td>DISFARCE</td>\n",
       "      <td>GH7</td>\n",
       "      <td>DISFARCE</td>\n",
       "      <td>0.614986</td>\n",
       "    </tr>\n",
       "    <tr>\n",
       "      <th>2</th>\n",
       "      <td>GH7</td>\n",
       "      <td>DISFARCE</td>\n",
       "      <td>GH7</td>\n",
       "      <td>DISFARCE</td>\n",
       "      <td>0.747182</td>\n",
       "    </tr>\n",
       "    <tr>\n",
       "      <th>3</th>\n",
       "      <td>GH7</td>\n",
       "      <td>DISFARCE</td>\n",
       "      <td>GH7</td>\n",
       "      <td>DISFARCE</td>\n",
       "      <td>0.735326</td>\n",
       "    </tr>\n",
       "    <tr>\n",
       "      <th>4</th>\n",
       "      <td>GH7</td>\n",
       "      <td>DISFARCE</td>\n",
       "      <td>GH7</td>\n",
       "      <td>DISFARCE</td>\n",
       "      <td>0.610291</td>\n",
       "    </tr>\n",
       "  </tbody>\n",
       "</table>\n",
       "</div>"
      ],
      "text/plain": [
       "  voz-1  classe-1 voz-2  classe-2     score\n",
       "0   GH7  DISFARCE   GH7  DISFARCE  1.000000\n",
       "1   GH7  DISFARCE   GH7  DISFARCE  0.614986\n",
       "2   GH7  DISFARCE   GH7  DISFARCE  0.747182\n",
       "3   GH7  DISFARCE   GH7  DISFARCE  0.735326\n",
       "4   GH7  DISFARCE   GH7  DISFARCE  0.610291"
      ]
     },
     "execution_count": 1,
     "metadata": {},
     "output_type": "execute_result"
    }
   ],
   "source": [
    "import pandas as pd\n",
    "import numpy as np\n",
    "\n",
    "df = pd.read_csv('resultado.csv')\n",
    "\n",
    "df.head()"
   ]
  },
  {
   "cell_type": "markdown",
   "metadata": {},
   "source": [
    "#### Removendo os scores da comparação entre um arquivo de áudio com ele mesmo, o score dá 1"
   ]
  },
  {
   "cell_type": "code",
   "execution_count": 2,
   "metadata": {},
   "outputs": [
    {
     "name": "stdout",
     "output_type": "stream",
     "text": [
      "(203841, 5)\n",
      "(203193, 5)\n"
     ]
    },
    {
     "data": {
      "text/html": [
       "<div>\n",
       "<style scoped>\n",
       "    .dataframe tbody tr th:only-of-type {\n",
       "        vertical-align: middle;\n",
       "    }\n",
       "\n",
       "    .dataframe tbody tr th {\n",
       "        vertical-align: top;\n",
       "    }\n",
       "\n",
       "    .dataframe thead th {\n",
       "        text-align: right;\n",
       "    }\n",
       "</style>\n",
       "<table border=\"1\" class=\"dataframe\">\n",
       "  <thead>\n",
       "    <tr style=\"text-align: right;\">\n",
       "      <th></th>\n",
       "      <th>voz-1</th>\n",
       "      <th>classe-1</th>\n",
       "      <th>voz-2</th>\n",
       "      <th>classe-2</th>\n",
       "      <th>score</th>\n",
       "    </tr>\n",
       "  </thead>\n",
       "  <tbody>\n",
       "    <tr>\n",
       "      <th>1</th>\n",
       "      <td>GH7</td>\n",
       "      <td>DISFARCE</td>\n",
       "      <td>GH7</td>\n",
       "      <td>DISFARCE</td>\n",
       "      <td>0.614986</td>\n",
       "    </tr>\n",
       "    <tr>\n",
       "      <th>2</th>\n",
       "      <td>GH7</td>\n",
       "      <td>DISFARCE</td>\n",
       "      <td>GH7</td>\n",
       "      <td>DISFARCE</td>\n",
       "      <td>0.747182</td>\n",
       "    </tr>\n",
       "    <tr>\n",
       "      <th>3</th>\n",
       "      <td>GH7</td>\n",
       "      <td>DISFARCE</td>\n",
       "      <td>GH7</td>\n",
       "      <td>DISFARCE</td>\n",
       "      <td>0.735326</td>\n",
       "    </tr>\n",
       "    <tr>\n",
       "      <th>4</th>\n",
       "      <td>GH7</td>\n",
       "      <td>DISFARCE</td>\n",
       "      <td>GH7</td>\n",
       "      <td>DISFARCE</td>\n",
       "      <td>0.610291</td>\n",
       "    </tr>\n",
       "    <tr>\n",
       "      <th>5</th>\n",
       "      <td>GH7</td>\n",
       "      <td>DISFARCE</td>\n",
       "      <td>GH7</td>\n",
       "      <td>DISFARCE</td>\n",
       "      <td>0.616554</td>\n",
       "    </tr>\n",
       "  </tbody>\n",
       "</table>\n",
       "</div>"
      ],
      "text/plain": [
       "  voz-1  classe-1 voz-2  classe-2     score\n",
       "1   GH7  DISFARCE   GH7  DISFARCE  0.614986\n",
       "2   GH7  DISFARCE   GH7  DISFARCE  0.747182\n",
       "3   GH7  DISFARCE   GH7  DISFARCE  0.735326\n",
       "4   GH7  DISFARCE   GH7  DISFARCE  0.610291\n",
       "5   GH7  DISFARCE   GH7  DISFARCE  0.616554"
      ]
     },
     "execution_count": 2,
     "metadata": {},
     "output_type": "execute_result"
    }
   ],
   "source": [
    "print(df.shape)\n",
    "df = df.drop(df[df['score']>0.99].index)\n",
    "print(df.shape)\n",
    "df.head()"
   ]
  },
  {
   "cell_type": "markdown",
   "metadata": {},
   "source": [
    "#### Cada combinação voz-classe tem de 2 a 8 trechos de áudio de aproximadamente 8 segundos\n",
    "#### Uso a média dos scores desses trechos como métrica para os experimentos"
   ]
  },
  {
   "cell_type": "code",
   "execution_count": 3,
   "metadata": {
    "scrolled": true
   },
   "outputs": [
    {
     "name": "stdout",
     "output_type": "stream",
     "text": [
      "                                  score\n",
      "voz-1 classe-1 voz-2 classe-2          \n",
      "GH1   DISFARCE GH1   DISFARCE  0.746833\n",
      "                     NORMAL    0.624282\n",
      "      NORMAL   GH1   NORMAL    0.687960\n",
      "                                  score\n",
      "voz-1 classe-1 voz-2 classe-2          \n",
      "GH1   DISFARCE GH2   NORMAL    0.546969\n",
      "      NORMAL   GH2   NORMAL    0.560694\n",
      "                                  score\n",
      "voz-1 classe-1 voz-2 classe-2          \n",
      "GH2   DISFARCE GH1   DISFARCE  0.564198\n",
      "                     NORMAL    0.524883\n",
      "                                  score\n",
      "voz-1 classe-1 voz-2 classe-2          \n",
      "GH1   DISFARCE GR1   DISFARCE  0.480518\n",
      "                     NORMAL    0.506974\n",
      "      NORMAL   GR1   NORMAL    0.552463\n",
      "                                  score\n",
      "voz-1 classe-1 voz-2 classe-2          \n",
      "GR1   DISFARCE GH1   NORMAL    0.493377\n"
     ]
    }
   ],
   "source": [
    "#médias entre uma voz e classe com as demais\n",
    "df_medias = df.groupby(['voz-1', 'classe-1', 'voz-2', 'classe-2']).mean()\n",
    "\n",
    "# comparação de uma voz com ela mesma\n",
    "print(df_medias.loc['GH1', :, 'GH1',:])\n",
    "\n",
    "#comparação de uma voz de um homem com uma de outro homem \n",
    "print(df_medias.loc['GH1', :, 'GH2', :])\n",
    "print(df_medias.loc['GH2', :, 'GH1', :])\n",
    "\n",
    "#mais uma, agora homem e rapaz\n",
    "print(df_medias.loc['GH1', :, 'GR1', :])\n",
    "print(df_medias.loc['GR1', :, 'GH1', :])"
   ]
  },
  {
   "cell_type": "code",
   "execution_count": 4,
   "metadata": {},
   "outputs": [
    {
     "data": {
      "text/plain": [
       "count    4169.000000\n",
       "mean        0.667319\n",
       "std         0.113398\n",
       "min         0.177960\n",
       "25%         0.603195\n",
       "50%         0.687062\n",
       "75%         0.748153\n",
       "max         0.953725\n",
       "Name: score, dtype: float64"
      ]
     },
     "execution_count": 4,
     "metadata": {},
     "output_type": "execute_result"
    }
   ],
   "source": [
    "#sumário para mesma voz\n",
    "df[df['voz-1'] == df['voz-2']]['score'].describe()"
   ]
  },
  {
   "cell_type": "code",
   "execution_count": 5,
   "metadata": {},
   "outputs": [
    {
     "data": {
      "text/plain": [
       "count    199024.000000\n",
       "mean          0.366731\n",
       "std           0.144214\n",
       "min          -0.241430\n",
       "25%           0.265812\n",
       "50%           0.366823\n",
       "75%           0.470230\n",
       "max           0.854398\n",
       "Name: score, dtype: float64"
      ]
     },
     "execution_count": 5,
     "metadata": {},
     "output_type": "execute_result"
    }
   ],
   "source": [
    "#sumário para vozes diferentes\n",
    "df[df['voz-1'] != df['voz-2']]['score'].describe()"
   ]
  },
  {
   "cell_type": "code",
   "execution_count": 6,
   "metadata": {},
   "outputs": [
    {
     "data": {
      "text/plain": [
       "count    2033.000000\n",
       "mean        0.700238\n",
       "std         0.103581\n",
       "min         0.206756\n",
       "25%         0.654287\n",
       "50%         0.721117\n",
       "75%         0.769749\n",
       "max         0.908317\n",
       "Name: score, dtype: float64"
      ]
     },
     "execution_count": 6,
     "metadata": {},
     "output_type": "execute_result"
    }
   ],
   "source": [
    "#sumário para mesma voz, mesma classe(normal ou disfarçado)\n",
    "df[(df['voz-1'] == df['voz-2']) & (df['classe-1'] == df['classe-2'])]['score'].describe()"
   ]
  },
  {
   "cell_type": "code",
   "execution_count": 7,
   "metadata": {},
   "outputs": [
    {
     "data": {
      "text/plain": [
       "count    2136.000000\n",
       "mean        0.635988\n",
       "std         0.113483\n",
       "min         0.177960\n",
       "25%         0.567853\n",
       "50%         0.652163\n",
       "75%         0.718801\n",
       "max         0.953725\n",
       "Name: score, dtype: float64"
      ]
     },
     "execution_count": 7,
     "metadata": {},
     "output_type": "execute_result"
    }
   ],
   "source": [
    "#sumário para mesma voz, classes diferentes (normal ou disfarçado)\n",
    "df[(df['voz-1'] == df['voz-2']) & (df['classe-1'] != df['classe-2'])]['score'].describe()"
   ]
  },
  {
   "cell_type": "code",
   "execution_count": 8,
   "metadata": {},
   "outputs": [
    {
     "data": {
      "text/plain": [
       "count    99572.000000\n",
       "mean         0.368777\n",
       "std          0.144728\n",
       "min         -0.217313\n",
       "25%          0.267510\n",
       "50%          0.369501\n",
       "75%          0.472547\n",
       "max          0.828025\n",
       "Name: score, dtype: float64"
      ]
     },
     "execution_count": 8,
     "metadata": {},
     "output_type": "execute_result"
    }
   ],
   "source": [
    "#sumário para vozez diferentes, mesma classe(normal ou disfarçado)\n",
    "df[(df['voz-1'] != df['voz-2']) & (df['classe-1'] == df['classe-2'])]['score'].describe()"
   ]
  },
  {
   "cell_type": "code",
   "execution_count": 9,
   "metadata": {},
   "outputs": [
    {
     "data": {
      "text/plain": [
       "count    99452.000000\n",
       "mean         0.364682\n",
       "std          0.143670\n",
       "min         -0.241430\n",
       "25%          0.264362\n",
       "50%          0.364314\n",
       "75%          0.467882\n",
       "max          0.854398\n",
       "Name: score, dtype: float64"
      ]
     },
     "execution_count": 9,
     "metadata": {},
     "output_type": "execute_result"
    }
   ],
   "source": [
    "#sumário para vozes diferentes, classes diferentes (normal ou disfarçado)\n",
    "df[(df['voz-1'] != df['voz-2']) & (df['classe-1'] != df['classe-2'])]['score'].describe()"
   ]
  },
  {
   "cell_type": "code",
   "execution_count": 10,
   "metadata": {},
   "outputs": [
    {
     "name": "stdout",
     "output_type": "stream",
     "text": [
      "f1 score:  0.5282648337775284\n",
      "precision:  0.6361486486486486\n",
      "recall:  0.45166706644279203\n",
      "acurácia:  0.9834492329952311\n"
     ]
    }
   ],
   "source": [
    "from sklearn.metrics import f1_score, precision_score, recall_score, accuracy_score\n",
    "\n",
    "#métricas para um corte de 0.7\n",
    "df['predito'] = np.where(df['score'] > 0.7,1,0)\n",
    "df['y'] = np.where(df['voz-1'] == df['voz-2'], 1, 0)\n",
    "print('f1 score: ', f1_score(df['y'], df['predito']))\n",
    "print('precision: ', precision_score(df['y'], df['predito']))\n",
    "print('recall: ', recall_score(df['y'], df['predito']))\n",
    "print('acurácia: ', accuracy_score(df['y'], df['predito']))\n",
    "\n",
    "    \n",
    "#np.where(df['predito'] == df['y'], 1, 0)"
   ]
  },
  {
   "cell_type": "code",
   "execution_count": 11,
   "metadata": {},
   "outputs": [
    {
     "data": {
      "text/plain": [
       "<matplotlib.axes._subplots.AxesSubplot at 0x7faab1d34828>"
      ]
     },
     "execution_count": 11,
     "metadata": {},
     "output_type": "execute_result"
    },
    {
     "data": {
      "image/png": "[encoded data removed]",
      "text/plain": [
       "<Figure size 432x288 with 2 Axes>"
      ]
     },
     "metadata": {
      "needs_background": "light"
     },
     "output_type": "display_data"
    }
   ],
   "source": [
    "import seaborn as sns\n",
    "from sklearn.metrics import confusion_matrix\n",
    "\n",
    "cf_matrix = confusion_matrix(df['y'], df['predito'])\n",
    "sns.heatmap(cf_matrix, annot=True, cmap='Blues', fmt='g')"
   ]
  },
  {
   "cell_type": "code",
   "execution_count": 24,
   "metadata": {},
   "outputs": [
    {
     "name": "stdout",
     "output_type": "stream",
     "text": [
      "(4169, 7)\n",
      "1          GH7\n",
      "4446       GH8\n",
      "8842       GR6\n",
      "14422      GH2\n",
      "18097      GH1\n",
      "22941      GG3\n",
      "26532      GR1\n",
      "30676      GH3\n",
      "34189      GG8\n",
      "38242      GM5\n",
      "42814      GM4\n",
      "45639      GH5\n",
      "49552      GR2\n",
      "52867      GG9\n",
      "53964      GM3\n",
      "57231      GR8\n",
      "60997      GG1\n",
      "64186      GM1\n",
      "68902      GG5\n",
      "72001     GH10\n",
      "74556      GM6\n",
      "78592      GR4\n",
      "81082      GG6\n",
      "84037     GG10\n",
      "86956      GM2\n",
      "92686      GM7\n",
      "95497     GR10\n",
      "98731      GG4\n",
      "101464     GH9\n",
      "104607     GH6\n",
      "107262     GM8\n",
      "109447    GM10\n",
      "111607     GH4\n",
      "114589     GM9\n",
      "117106     GG2\n",
      "119997     GR9\n",
      "122436     GR3\n",
      "124839     GR5\n",
      "127206     GG7\n",
      "130689     GR7\n",
      "200014     GC1\n",
      "200916    GC10\n",
      "201496     GC9\n",
      "201951     GC3\n",
      "202302     GC5\n",
      "202666     GC6\n",
      "202981     GC4\n",
      "203247     GC7\n",
      "203436     GC8\n",
      "203566     GC2\n",
      "Name: voz-1, dtype: object\n"
     ]
    }
   ],
   "source": [
    "df_same_voice = df[(df['voz-1'] == df['voz-2'])]\n",
    "print(df_same_voice.shape)\n",
    "\n",
    "print(df_same_voice['voz-1'].drop_duplicates())"
   ]
  },
  {
   "cell_type": "code",
   "execution_count": 25,
   "metadata": {},
   "outputs": [
    {
     "name": "stdout",
     "output_type": "stream",
     "text": [
      "    voz-1  classe-1 voz-2  classe-2     score  predito  y\n",
      "7     GH7  DISFARCE   GH8  DISFARCE  0.311546        0  0\n",
      "8     GH7  DISFARCE   GH8  DISFARCE  0.322883        0  0\n",
      "9     GH7  DISFARCE   GH8  DISFARCE  0.293944        0  0\n",
      "10    GH7  DISFARCE   GH8  DISFARCE  0.318813        0  0\n",
      "11    GH7  DISFARCE   GH8  DISFARCE  0.340338        0  0\n",
      "12    GH7  DISFARCE   GH8  DISFARCE  0.181777        0  0\n",
      "13    GH7  DISFARCE   GH8  DISFARCE  0.281583        0  0\n",
      "23    GH7  DISFARCE   GH2  DISFARCE  0.614539        0  0\n",
      "24    GH7  DISFARCE   GH2  DISFARCE  0.588184        0  0\n",
      "25    GH7  DISFARCE   GH2  DISFARCE  0.662540        0  0\n",
      "26    GH7  DISFARCE   GH2  DISFARCE  0.494744        0  0\n",
      "27    GH7  DISFARCE   GH2  DISFARCE  0.552373        0  0\n",
      "28    GH7  DISFARCE   GH2  DISFARCE  0.625148        0  0\n",
      "29    GH7  DISFARCE   GH1  DISFARCE  0.468787        0  0\n",
      "30    GH7  DISFARCE   GH1  DISFARCE  0.433096        0  0\n",
      "31    GH7  DISFARCE   GH1  DISFARCE  0.633104        0  0\n",
      "32    GH7  DISFARCE   GH1  DISFARCE  0.548689        0  0\n",
      "33    GH7  DISFARCE   GH1  DISFARCE  0.279051        0  0\n",
      "34    GH7  DISFARCE   GH1  DISFARCE  0.456622        0  0\n",
      "35    GH7  DISFARCE   GH1  DISFARCE  0.391993        0  0\n",
      "36    GH7  DISFARCE   GH1  DISFARCE  0.529156        0  0\n",
      "50    GH7  DISFARCE   GH3  DISFARCE  0.412413        0  0\n",
      "51    GH7  DISFARCE   GH3  DISFARCE  0.375058        0  0\n",
      "52    GH7  DISFARCE   GH3  DISFARCE  0.313045        0  0\n",
      "53    GH7  DISFARCE   GH3  DISFARCE  0.248513        0  0\n",
      "54    GH7  DISFARCE   GH3  DISFARCE  0.347892        0  0\n",
      "55    GH7  DISFARCE   GH3  DISFARCE  0.175157        0  0\n",
      "76    GH7  DISFARCE   GH5  DISFARCE  0.426498        0  0\n",
      "77    GH7  DISFARCE   GH5  DISFARCE  0.460952        0  0\n",
      "78    GH7  DISFARCE   GH5  DISFARCE  0.483447        0  0\n",
      "79    GH7  DISFARCE   GH5  DISFARCE  0.403480        0  0\n",
      "80    GH7  DISFARCE   GH5  DISFARCE  0.414322        0  0\n",
      "81    GH7  DISFARCE   GH5  DISFARCE  0.292652        0  0\n",
      "82    GH7  DISFARCE   GH5  DISFARCE  0.423771        0  0\n",
      "125   GH7  DISFARCE  GH10  DISFARCE  0.147230        0  0\n",
      "126   GH7  DISFARCE  GH10  DISFARCE  0.273822        0  0\n",
      "127   GH7  DISFARCE  GH10  DISFARCE  0.271779        0  0\n",
      "128   GH7  DISFARCE  GH10  DISFARCE  0.265394        0  0\n",
      "129   GH7  DISFARCE  GH10  DISFARCE  0.317696        0  0\n",
      "186   GH7  DISFARCE   GH9  DISFARCE  0.201169        0  0\n",
      "187   GH7  DISFARCE   GH9  DISFARCE  0.256078        0  0\n",
      "188   GH7  DISFARCE   GH9  DISFARCE  0.228668        0  0\n",
      "189   GH7  DISFARCE   GH9  DISFARCE  0.278098        0  0\n",
      "190   GH7  DISFARCE   GH9  DISFARCE  0.048203        0  0\n",
      "191   GH7  DISFARCE   GH9  DISFARCE  0.197339        0  0\n",
      "192   GH7  DISFARCE   GH9  DISFARCE  0.358205        0  0\n",
      "193   GH7  DISFARCE   GH6  DISFARCE  0.367593        0  0\n",
      "194   GH7  DISFARCE   GH6  DISFARCE  0.497738        0  0\n",
      "195   GH7  DISFARCE   GH6  DISFARCE  0.344978        0  0\n",
      "196   GH7  DISFARCE   GH6  DISFARCE  0.320100        0  0\n",
      "(37324, 7)\n"
     ]
    }
   ],
   "source": [
    "df_different_voice_same_group = df[(df['voz-1'] != df['voz-2']) & ((df['voz-1'].str[:2] == df['voz-2'].str[:2]))]\n",
    "print(df_different_voice_same_group.head(50))\n",
    "print(df_different_voice_same_group.shape)"
   ]
  },
  {
   "cell_type": "code",
   "execution_count": 23,
   "metadata": {},
   "outputs": [
    {
     "name": "stdout",
     "output_type": "stream",
     "text": [
      "f1 score:  0.5781393920786\n",
      "precision:  0.8029850746268656\n",
      "recall:  0.45166706644279203\n",
      "acurácia:  0.9337719615356808\n"
     ]
    }
   ],
   "source": [
    "#métricas para um corte de 0.7\n",
    "df_novo = pd.concat([df_same_voice, df_different_voice_same_group])\n",
    "df_novo['predito'] = np.where(df_novo['score'] > 0.7,1,0)\n",
    "df_novo['y'] = np.where(df_novo['voz-1'] == df_novo['voz-2'], 1, 0)\n",
    "print('f1 score: ', f1_score(df_novo['y'], df_novo['predito']))\n",
    "print('precision: ', precision_score(df_novo['y'], df_novo['predito']))\n",
    "print('recall: ', recall_score(df_novo['y'], df_novo['predito']))\n",
    "print('acurácia: ', accuracy_score(df_novo['y'], df_novo['predito']))"
   ]
  },
  {
   "cell_type": "code",
   "execution_count": 20,
   "metadata": {},
   "outputs": [
    {
     "data": {
      "text/plain": [
       "<matplotlib.axes._subplots.AxesSubplot at 0x7faaa8b85358>"
      ]
     },
     "execution_count": 20,
     "metadata": {},
     "output_type": "execute_result"
    },
    {
     "data": {
      "image/png": "[encoded data removed]",
      "text/plain": [
       "<Figure size 432x288 with 2 Axes>"
      ]
     },
     "metadata": {
      "needs_background": "light"
     },
     "output_type": "display_data"
    }
   ],
   "source": [
    "import seaborn as sns\n",
    "from sklearn.metrics import confusion_matrix\n",
    "\n",
    "cf_matrix = confusion_matrix(df_novo['y'], df_novo['predito'])\n",
    "\n",
    "sns.heatmap(cf_matrix, annot=True, cmap='Blues', fmt='g')"
   ]
  },
  {
   "cell_type": "code",
   "execution_count": 35,
   "metadata": {},
   "outputs": [],
   "source": [
    "df_novo = pd.concat([df_same_voice, df_different_voice_same_group])\n",
    "df_novo = df_novo.drop(['predito'], axis=1)\n",
    "df_novo = df_novo.groupby(['voz-1','classe-1', 'voz-2', 'classe-2'], as_index=False).mean()"
   ]
  },
  {
   "cell_type": "code",
   "execution_count": 57,
   "metadata": {},
   "outputs": [
    {
     "name": "stdout",
     "output_type": "stream",
     "text": [
      "f1 score:  0.8623188405797101\n",
      "precision:  0.85\n",
      "recall:  0.875\n",
      "acurácia:  0.9594017094017094\n"
     ]
    }
   ],
   "source": [
    "#métricas para um corte de 0.7\n",
    "df_novo['predito'] = np.where(df_novo['score'] > 0.62,1,0)\n",
    "df_novo['y'] = np.where(df_novo['voz-1'] == df_novo['voz-2'], 1, 0)\n",
    "print('f1 score: ', f1_score(df_novo['y'], df_novo['predito']))\n",
    "print('precision: ', precision_score(df_novo['y'], df_novo['predito']))\n",
    "print('recall: ', recall_score(df_novo['y'], df_novo['predito']))\n",
    "print('acurácia: ', accuracy_score(df_novo['y'], df_novo['predito']))"
   ]
  },
  {
   "cell_type": "code",
   "execution_count": 58,
   "metadata": {},
   "outputs": [
    {
     "data": {
      "text/plain": [
       "<matplotlib.axes._subplots.AxesSubplot at 0x7faaa8617d30>"
      ]
     },
     "execution_count": 58,
     "metadata": {},
     "output_type": "execute_result"
    },
    {
     "data": {
      "image/png": "[encoded data removed]",
      "text/plain": [
       "<Figure size 432x288 with 2 Axes>"
      ]
     },
     "metadata": {
      "needs_background": "light"
     },
     "output_type": "display_data"
    }
   ],
   "source": [
    "import seaborn as sns\n",
    "from sklearn.metrics import confusion_matrix\n",
    "\n",
    "cf_matrix = confusion_matrix(df_novo['y'], df_novo['predito'])\n",
    "\n",
    "sns.heatmap(cf_matrix, annot=True, cmap='Blues', fmt='g')"
   ]
  },
  {
   "cell_type": "code",
   "execution_count": 49,
   "metadata": {},
   "outputs": [
    {
     "data": {
      "text/html": [
       "<div>\n",
       "<style scoped>\n",
       "    .dataframe tbody tr th:only-of-type {\n",
       "        vertical-align: middle;\n",
       "    }\n",
       "\n",
       "    .dataframe tbody tr th {\n",
       "        vertical-align: top;\n",
       "    }\n",
       "\n",
       "    .dataframe thead th {\n",
       "        text-align: right;\n",
       "    }\n",
       "</style>\n",
       "<table border=\"1\" class=\"dataframe\">\n",
       "  <thead>\n",
       "    <tr style=\"text-align: right;\">\n",
       "      <th></th>\n",
       "      <th>voz-1</th>\n",
       "      <th>classe-1</th>\n",
       "      <th>voz-2</th>\n",
       "      <th>classe-2</th>\n",
       "      <th>score</th>\n",
       "      <th>y</th>\n",
       "      <th>predito</th>\n",
       "    </tr>\n",
       "  </thead>\n",
       "  <tbody>\n",
       "    <tr>\n",
       "      <th>102</th>\n",
       "      <td>GG1</td>\n",
       "      <td>DISFARCE</td>\n",
       "      <td>GG6</td>\n",
       "      <td>DISFARCE</td>\n",
       "      <td>0.638948</td>\n",
       "      <td>0</td>\n",
       "      <td>1</td>\n",
       "    </tr>\n",
       "    <tr>\n",
       "      <th>103</th>\n",
       "      <td>GG1</td>\n",
       "      <td>DISFARCE</td>\n",
       "      <td>GG6</td>\n",
       "      <td>NORMAL</td>\n",
       "      <td>0.637487</td>\n",
       "      <td>0</td>\n",
       "      <td>1</td>\n",
       "    </tr>\n",
       "    <tr>\n",
       "      <th>126</th>\n",
       "      <td>GG10</td>\n",
       "      <td>NORMAL</td>\n",
       "      <td>GG6</td>\n",
       "      <td>NORMAL</td>\n",
       "      <td>0.661986</td>\n",
       "      <td>0</td>\n",
       "      <td>1</td>\n",
       "    </tr>\n",
       "    <tr>\n",
       "      <th>131</th>\n",
       "      <td>GG2</td>\n",
       "      <td>DISFARCE</td>\n",
       "      <td>GG2</td>\n",
       "      <td>DISFARCE</td>\n",
       "      <td>0.614978</td>\n",
       "      <td>1</td>\n",
       "      <td>0</td>\n",
       "    </tr>\n",
       "    <tr>\n",
       "      <th>132</th>\n",
       "      <td>GG2</td>\n",
       "      <td>DISFARCE</td>\n",
       "      <td>GG2</td>\n",
       "      <td>NORMAL</td>\n",
       "      <td>0.532746</td>\n",
       "      <td>1</td>\n",
       "      <td>0</td>\n",
       "    </tr>\n",
       "    <tr>\n",
       "      <th>182</th>\n",
       "      <td>GG4</td>\n",
       "      <td>DISFARCE</td>\n",
       "      <td>GG6</td>\n",
       "      <td>NORMAL</td>\n",
       "      <td>0.629277</td>\n",
       "      <td>0</td>\n",
       "      <td>1</td>\n",
       "    </tr>\n",
       "    <tr>\n",
       "      <th>191</th>\n",
       "      <td>GG4</td>\n",
       "      <td>NORMAL</td>\n",
       "      <td>GG6</td>\n",
       "      <td>NORMAL</td>\n",
       "      <td>0.635717</td>\n",
       "      <td>0</td>\n",
       "      <td>1</td>\n",
       "    </tr>\n",
       "    <tr>\n",
       "      <th>195</th>\n",
       "      <td>GG5</td>\n",
       "      <td>DISFARCE</td>\n",
       "      <td>GG10</td>\n",
       "      <td>DISFARCE</td>\n",
       "      <td>0.623119</td>\n",
       "      <td>0</td>\n",
       "      <td>1</td>\n",
       "    </tr>\n",
       "    <tr>\n",
       "      <th>196</th>\n",
       "      <td>GG5</td>\n",
       "      <td>DISFARCE</td>\n",
       "      <td>GG10</td>\n",
       "      <td>NORMAL</td>\n",
       "      <td>0.637012</td>\n",
       "      <td>0</td>\n",
       "      <td>1</td>\n",
       "    </tr>\n",
       "    <tr>\n",
       "      <th>200</th>\n",
       "      <td>GG5</td>\n",
       "      <td>DISFARCE</td>\n",
       "      <td>GG4</td>\n",
       "      <td>DISFARCE</td>\n",
       "      <td>0.634625</td>\n",
       "      <td>0</td>\n",
       "      <td>1</td>\n",
       "    </tr>\n",
       "    <tr>\n",
       "      <th>204</th>\n",
       "      <td>GG5</td>\n",
       "      <td>DISFARCE</td>\n",
       "      <td>GG6</td>\n",
       "      <td>DISFARCE</td>\n",
       "      <td>0.644522</td>\n",
       "      <td>0</td>\n",
       "      <td>1</td>\n",
       "    </tr>\n",
       "    <tr>\n",
       "      <th>205</th>\n",
       "      <td>GG5</td>\n",
       "      <td>DISFARCE</td>\n",
       "      <td>GG6</td>\n",
       "      <td>NORMAL</td>\n",
       "      <td>0.671942</td>\n",
       "      <td>0</td>\n",
       "      <td>1</td>\n",
       "    </tr>\n",
       "    <tr>\n",
       "      <th>211</th>\n",
       "      <td>GG5</td>\n",
       "      <td>NORMAL</td>\n",
       "      <td>GG10</td>\n",
       "      <td>NORMAL</td>\n",
       "      <td>0.624622</td>\n",
       "      <td>0</td>\n",
       "      <td>1</td>\n",
       "    </tr>\n",
       "    <tr>\n",
       "      <th>215</th>\n",
       "      <td>GG5</td>\n",
       "      <td>NORMAL</td>\n",
       "      <td>GG6</td>\n",
       "      <td>NORMAL</td>\n",
       "      <td>0.711238</td>\n",
       "      <td>0</td>\n",
       "      <td>1</td>\n",
       "    </tr>\n",
       "    <tr>\n",
       "      <th>218</th>\n",
       "      <td>GG6</td>\n",
       "      <td>DISFARCE</td>\n",
       "      <td>GG1</td>\n",
       "      <td>NORMAL</td>\n",
       "      <td>0.641059</td>\n",
       "      <td>0</td>\n",
       "      <td>1</td>\n",
       "    </tr>\n",
       "    <tr>\n",
       "      <th>226</th>\n",
       "      <td>GG6</td>\n",
       "      <td>DISFARCE</td>\n",
       "      <td>GG5</td>\n",
       "      <td>NORMAL</td>\n",
       "      <td>0.664553</td>\n",
       "      <td>0</td>\n",
       "      <td>1</td>\n",
       "    </tr>\n",
       "    <tr>\n",
       "      <th>233</th>\n",
       "      <td>GG6</td>\n",
       "      <td>NORMAL</td>\n",
       "      <td>GG1</td>\n",
       "      <td>NORMAL</td>\n",
       "      <td>0.667811</td>\n",
       "      <td>0</td>\n",
       "      <td>1</td>\n",
       "    </tr>\n",
       "    <tr>\n",
       "      <th>248</th>\n",
       "      <td>GG7</td>\n",
       "      <td>NORMAL</td>\n",
       "      <td>GG6</td>\n",
       "      <td>NORMAL</td>\n",
       "      <td>0.631837</td>\n",
       "      <td>0</td>\n",
       "      <td>1</td>\n",
       "    </tr>\n",
       "    <tr>\n",
       "      <th>266</th>\n",
       "      <td>GG8</td>\n",
       "      <td>DISFARCE</td>\n",
       "      <td>GG8</td>\n",
       "      <td>DISFARCE</td>\n",
       "      <td>0.611017</td>\n",
       "      <td>1</td>\n",
       "      <td>0</td>\n",
       "    </tr>\n",
       "    <tr>\n",
       "      <th>267</th>\n",
       "      <td>GG8</td>\n",
       "      <td>DISFARCE</td>\n",
       "      <td>GG8</td>\n",
       "      <td>NORMAL</td>\n",
       "      <td>0.577877</td>\n",
       "      <td>1</td>\n",
       "      <td>0</td>\n",
       "    </tr>\n",
       "    <tr>\n",
       "      <th>271</th>\n",
       "      <td>GG8</td>\n",
       "      <td>NORMAL</td>\n",
       "      <td>GG6</td>\n",
       "      <td>NORMAL</td>\n",
       "      <td>0.642540</td>\n",
       "      <td>0</td>\n",
       "      <td>1</td>\n",
       "    </tr>\n",
       "    <tr>\n",
       "      <th>323</th>\n",
       "      <td>GH10</td>\n",
       "      <td>DISFARCE</td>\n",
       "      <td>GH10</td>\n",
       "      <td>NORMAL</td>\n",
       "      <td>0.419517</td>\n",
       "      <td>1</td>\n",
       "      <td>0</td>\n",
       "    </tr>\n",
       "    <tr>\n",
       "      <th>364</th>\n",
       "      <td>GH3</td>\n",
       "      <td>DISFARCE</td>\n",
       "      <td>GH3</td>\n",
       "      <td>DISFARCE</td>\n",
       "      <td>0.608386</td>\n",
       "      <td>1</td>\n",
       "      <td>0</td>\n",
       "    </tr>\n",
       "    <tr>\n",
       "      <th>365</th>\n",
       "      <td>GH3</td>\n",
       "      <td>DISFARCE</td>\n",
       "      <td>GH3</td>\n",
       "      <td>NORMAL</td>\n",
       "      <td>0.600186</td>\n",
       "      <td>1</td>\n",
       "      <td>0</td>\n",
       "    </tr>\n",
       "    <tr>\n",
       "      <th>419</th>\n",
       "      <td>GH5</td>\n",
       "      <td>NORMAL</td>\n",
       "      <td>GH5</td>\n",
       "      <td>NORMAL</td>\n",
       "      <td>0.590123</td>\n",
       "      <td>1</td>\n",
       "      <td>0</td>\n",
       "    </tr>\n",
       "    <tr>\n",
       "      <th>457</th>\n",
       "      <td>GH7</td>\n",
       "      <td>DISFARCE</td>\n",
       "      <td>GH7</td>\n",
       "      <td>NORMAL</td>\n",
       "      <td>0.580514</td>\n",
       "      <td>1</td>\n",
       "      <td>0</td>\n",
       "    </tr>\n",
       "    <tr>\n",
       "      <th>496</th>\n",
       "      <td>GH8</td>\n",
       "      <td>NORMAL</td>\n",
       "      <td>GH9</td>\n",
       "      <td>NORMAL</td>\n",
       "      <td>0.681274</td>\n",
       "      <td>0</td>\n",
       "      <td>1</td>\n",
       "    </tr>\n",
       "    <tr>\n",
       "      <th>528</th>\n",
       "      <td>GM1</td>\n",
       "      <td>NORMAL</td>\n",
       "      <td>GM1</td>\n",
       "      <td>NORMAL</td>\n",
       "      <td>0.607183</td>\n",
       "      <td>1</td>\n",
       "      <td>0</td>\n",
       "    </tr>\n",
       "    <tr>\n",
       "      <th>561</th>\n",
       "      <td>GM2</td>\n",
       "      <td>DISFARCE</td>\n",
       "      <td>GM2</td>\n",
       "      <td>NORMAL</td>\n",
       "      <td>0.582114</td>\n",
       "      <td>1</td>\n",
       "      <td>0</td>\n",
       "    </tr>\n",
       "    <tr>\n",
       "      <th>589</th>\n",
       "      <td>GM3</td>\n",
       "      <td>DISFARCE</td>\n",
       "      <td>GM3</td>\n",
       "      <td>NORMAL</td>\n",
       "      <td>0.435819</td>\n",
       "      <td>1</td>\n",
       "      <td>0</td>\n",
       "    </tr>\n",
       "    <tr>\n",
       "      <th>639</th>\n",
       "      <td>GM5</td>\n",
       "      <td>DISFARCE</td>\n",
       "      <td>GM5</td>\n",
       "      <td>NORMAL</td>\n",
       "      <td>0.556246</td>\n",
       "      <td>1</td>\n",
       "      <td>0</td>\n",
       "    </tr>\n",
       "    <tr>\n",
       "      <th>683</th>\n",
       "      <td>GM7</td>\n",
       "      <td>DISFARCE</td>\n",
       "      <td>GM8</td>\n",
       "      <td>NORMAL</td>\n",
       "      <td>0.621578</td>\n",
       "      <td>0</td>\n",
       "      <td>1</td>\n",
       "    </tr>\n",
       "    <tr>\n",
       "      <th>689</th>\n",
       "      <td>GM7</td>\n",
       "      <td>NORMAL</td>\n",
       "      <td>GM8</td>\n",
       "      <td>NORMAL</td>\n",
       "      <td>0.637546</td>\n",
       "      <td>0</td>\n",
       "      <td>1</td>\n",
       "    </tr>\n",
       "    <tr>\n",
       "      <th>700</th>\n",
       "      <td>GM8</td>\n",
       "      <td>DISFARCE</td>\n",
       "      <td>GM8</td>\n",
       "      <td>NORMAL</td>\n",
       "      <td>0.590487</td>\n",
       "      <td>1</td>\n",
       "      <td>0</td>\n",
       "    </tr>\n",
       "    <tr>\n",
       "      <th>722</th>\n",
       "      <td>GR1</td>\n",
       "      <td>DISFARCE</td>\n",
       "      <td>GR1</td>\n",
       "      <td>NORMAL</td>\n",
       "      <td>0.614830</td>\n",
       "      <td>1</td>\n",
       "      <td>0</td>\n",
       "    </tr>\n",
       "    <tr>\n",
       "      <th>762</th>\n",
       "      <td>GR2</td>\n",
       "      <td>DISFARCE</td>\n",
       "      <td>GR2</td>\n",
       "      <td>NORMAL</td>\n",
       "      <td>0.552191</td>\n",
       "      <td>1</td>\n",
       "      <td>0</td>\n",
       "    </tr>\n",
       "    <tr>\n",
       "      <th>832</th>\n",
       "      <td>GR5</td>\n",
       "      <td>DISFARCE</td>\n",
       "      <td>GR4</td>\n",
       "      <td>NORMAL</td>\n",
       "      <td>0.629084</td>\n",
       "      <td>0</td>\n",
       "      <td>1</td>\n",
       "    </tr>\n",
       "    <tr>\n",
       "      <th>924</th>\n",
       "      <td>GR9</td>\n",
       "      <td>DISFARCE</td>\n",
       "      <td>GR9</td>\n",
       "      <td>DISFARCE</td>\n",
       "      <td>0.588503</td>\n",
       "      <td>1</td>\n",
       "      <td>0</td>\n",
       "    </tr>\n",
       "  </tbody>\n",
       "</table>\n",
       "</div>"
      ],
      "text/plain": [
       "    voz-1  classe-1 voz-2  classe-2     score  y  predito\n",
       "102   GG1  DISFARCE   GG6  DISFARCE  0.638948  0        1\n",
       "103   GG1  DISFARCE   GG6    NORMAL  0.637487  0        1\n",
       "126  GG10    NORMAL   GG6    NORMAL  0.661986  0        1\n",
       "131   GG2  DISFARCE   GG2  DISFARCE  0.614978  1        0\n",
       "132   GG2  DISFARCE   GG2    NORMAL  0.532746  1        0\n",
       "182   GG4  DISFARCE   GG6    NORMAL  0.629277  0        1\n",
       "191   GG4    NORMAL   GG6    NORMAL  0.635717  0        1\n",
       "195   GG5  DISFARCE  GG10  DISFARCE  0.623119  0        1\n",
       "196   GG5  DISFARCE  GG10    NORMAL  0.637012  0        1\n",
       "200   GG5  DISFARCE   GG4  DISFARCE  0.634625  0        1\n",
       "204   GG5  DISFARCE   GG6  DISFARCE  0.644522  0        1\n",
       "205   GG5  DISFARCE   GG6    NORMAL  0.671942  0        1\n",
       "211   GG5    NORMAL  GG10    NORMAL  0.624622  0        1\n",
       "215   GG5    NORMAL   GG6    NORMAL  0.711238  0        1\n",
       "218   GG6  DISFARCE   GG1    NORMAL  0.641059  0        1\n",
       "226   GG6  DISFARCE   GG5    NORMAL  0.664553  0        1\n",
       "233   GG6    NORMAL   GG1    NORMAL  0.667811  0        1\n",
       "248   GG7    NORMAL   GG6    NORMAL  0.631837  0        1\n",
       "266   GG8  DISFARCE   GG8  DISFARCE  0.611017  1        0\n",
       "267   GG8  DISFARCE   GG8    NORMAL  0.577877  1        0\n",
       "271   GG8    NORMAL   GG6    NORMAL  0.642540  0        1\n",
       "323  GH10  DISFARCE  GH10    NORMAL  0.419517  1        0\n",
       "364   GH3  DISFARCE   GH3  DISFARCE  0.608386  1        0\n",
       "365   GH3  DISFARCE   GH3    NORMAL  0.600186  1        0\n",
       "419   GH5    NORMAL   GH5    NORMAL  0.590123  1        0\n",
       "457   GH7  DISFARCE   GH7    NORMAL  0.580514  1        0\n",
       "496   GH8    NORMAL   GH9    NORMAL  0.681274  0        1\n",
       "528   GM1    NORMAL   GM1    NORMAL  0.607183  1        0\n",
       "561   GM2  DISFARCE   GM2    NORMAL  0.582114  1        0\n",
       "589   GM3  DISFARCE   GM3    NORMAL  0.435819  1        0\n",
       "639   GM5  DISFARCE   GM5    NORMAL  0.556246  1        0\n",
       "683   GM7  DISFARCE   GM8    NORMAL  0.621578  0        1\n",
       "689   GM7    NORMAL   GM8    NORMAL  0.637546  0        1\n",
       "700   GM8  DISFARCE   GM8    NORMAL  0.590487  1        0\n",
       "722   GR1  DISFARCE   GR1    NORMAL  0.614830  1        0\n",
       "762   GR2  DISFARCE   GR2    NORMAL  0.552191  1        0\n",
       "832   GR5  DISFARCE   GR4    NORMAL  0.629084  0        1\n",
       "924   GR9  DISFARCE   GR9  DISFARCE  0.588503  1        0"
      ]
     },
     "execution_count": 49,
     "metadata": {},
     "output_type": "execute_result"
    }
   ],
   "source": [
    "df_novo[df_novo['y'] != df_novo['predito']]"
   ]
  },
  {
   "cell_type": "code",
   "execution_count": 52,
   "metadata": {},
   "outputs": [
    {
     "data": {
      "image/png": "[encoded data removed]",
      "text/plain": [
       "<Figure size 432x288 with 1 Axes>"
      ]
     },
     "metadata": {
      "needs_background": "light"
     },
     "output_type": "display_data"
    }
   ],
   "source": [
    "\n",
    "from sklearn.metrics import roc_curve, auc\n",
    "\n",
    "fpr, tpr, threshold = roc_curve(df_novo['y'], df_novo['predito'])\n",
    "roc_auc = auc(fpr, tpr)\n",
    "\n",
    "# method I: plt\n",
    "import matplotlib.pyplot as plt\n",
    "plt.title('Receiver Operating Characteristic')\n",
    "plt.plot(fpr, tpr, 'b', label = 'AUC = %0.2f' % roc_auc)\n",
    "plt.legend(loc = 'lower right')\n",
    "plt.plot([0, 1], [0, 1],'r--')\n",
    "plt.xlim([0, 1])\n",
    "plt.ylim([0, 1])\n",
    "plt.ylabel('True Positive Rate')\n",
    "plt.xlabel('False Positive Rate')\n",
    "plt.show()"
   ]
  },
  {
   "cell_type": "code",
   "execution_count": null,
   "metadata": {},
   "outputs": [],
   "source": []
  }
 ],
 "metadata": {
  "kernelspec": {
   "display_name": "Python 3",
   "language": "python",
   "name": "python3"
  },
  "language_info": {
   "codemirror_mode": {
    "name": "ipython",
    "version": 3
   },
   "file_extension": ".py",
   "mimetype": "text/x-python",
   "name": "python",
   "nbconvert_exporter": "python",
   "pygments_lexer": "ipython3",
   "version": "3.6.9"
  }
 },
 "nbformat": 4,
 "nbformat_minor": 4
}
